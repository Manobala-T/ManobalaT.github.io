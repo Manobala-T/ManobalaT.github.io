import cv2
import numpy as np
import subprocess

def run_elsd(image_path, elsdc_binary_path):
    """
    Runs the ELSDc binary on the given image and returns detected ellipses.
    """
    output_txt = "output.txt"  # ELSDc writes detected shapes here
    command = f"{elsdc_binary_path} {image_path} {output_txt}"
    
    # Run the command
    subprocess.run(command, shell=True, check=True)

    # Read detected ellipses from output.txt
    ellipses = []
    with open(output_txt, "r") as f:
        lines = f.readlines()
        for line in lines:
            values = list(map(float, line.strip().split()))
            if len(values) == 5:  # Format: xc, yc, a, b, theta
                ellipses.append(values)

    return ellipses

def draw_ellipses(image_path, ellipses):
    """
    Draws detected ellipses on the image.
    """
    image = cv2.imread(image_path)
    
    for (xc, yc, a, b, theta) in ellipses:
        color = (0, 255, 0)  # Green for inhibition zone
        if min(a, b) < 20:  # Assume smaller ellipses are antibiotic discs
            color = (0, 0, 255)  # Red for antibiotic disc
        
        cv2.ellipse(image, (int(xc), int(yc)), (int(a), int(b)), np.degrees(theta), 0, 360, color, 2)

    cv2.imshow("Detected Zones", image)
    cv2.waitKey(0)
    cv2.destroyAllWindows()

# Example usage
image_path = "image.png"
elsdc_binary_path = "./ELSDc"  # Path to compiled ELSDc binary
ellipses = run_elsd(image_path, elsdc_binary_path)
draw_ellipses(image_path, ellipses)
